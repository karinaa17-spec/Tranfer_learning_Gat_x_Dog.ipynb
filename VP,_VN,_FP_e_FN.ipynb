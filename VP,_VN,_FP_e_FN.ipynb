{
  "nbformat": 4,
  "nbformat_minor": 0,
  "metadata": {
    "colab": {
      "provenance": [],
      "authorship_tag": "ABX9TyPGylPFuuAbfTqcc2Ndg6D0",
      "include_colab_link": true
    },
    "kernelspec": {
      "name": "python3",
      "display_name": "Python 3"
    },
    "language_info": {
      "name": "python"
    }
  },
  "cells": [
    {
      "cell_type": "markdown",
      "metadata": {
        "id": "view-in-github",
        "colab_type": "text"
      },
      "source": [
        "<a href=\"https://colab.research.google.com/github/karinaa17-spec/Tranfer_learning_Gat_x_Dog.ipynb/blob/main/VP%2C_VN%2C_FP_e_FN.ipynb\" target=\"_parent\"><img src=\"https://colab.research.google.com/assets/colab-badge.svg\" alt=\"Open In Colab\"/></a>"
      ]
    },
    {
      "cell_type": "code",
      "execution_count": 1,
      "metadata": {
        "colab": {
          "base_uri": "https://localhost:8080/"
        },
        "id": "twLp_jbF7fDC",
        "outputId": "8b7304c1-1d64-43e2-a1f0-52c515e11869"
      },
      "outputs": [
        {
          "output_type": "stream",
          "name": "stdout",
          "text": [
            "Acurácia: 0.909\n",
            "Sensibilidade (Recall): 0.833\n",
            "Especificidade: 0.952\n",
            "Precisão: 0.909\n",
            "F-score: 0.870\n",
            "\n",
            "Matriz de Confusão:\n",
            "[[100   5]\n",
            " [  5  55]]\n",
            "\n",
            "Métricas com scikit-learn:\n",
            "Acurácia: 0.939\n",
            "Sensibilidade (Recall): 0.917\n",
            "Precisão: 0.917\n",
            "F1-Score: 0.917\n"
          ]
        }
      ],
      "source": [
        "# Importando as bibliotecas necessárias\n",
        "import numpy as np\n",
        "from sklearn.metrics import confusion_matrix, accuracy_score, precision_score, recall_score, f1_score\n",
        "\n",
        "# Definindo a matriz de confusão\n",
        "# Exemplo de valores: VP=50, FN=10, FP=5, VN=100\n",
        "VP = 50\n",
        "FN = 10\n",
        "FP = 5\n",
        "VN = 100\n",
        "\n",
        "# Calculando a Acurácia\n",
        "def calcular_acuracia(VP, FN, FP, VN):\n",
        "    return (VP + VN) / (VP + VN + FP + FN)\n",
        "\n",
        "# Calculando a Sensibilidade (Recall)\n",
        "def calcular_sensibilidade(VP, FN):\n",
        "    return VP / (VP + FN)\n",
        "\n",
        "# Calculando a Especificidade\n",
        "def calcular_especificidade(VN, FP):\n",
        "    return VN / (VN + FP)\n",
        "\n",
        "# Calculando a Precisão\n",
        "def calcular_precisao(VP, FP):\n",
        "    return VP / (VP + FP)\n",
        "\n",
        "# Calculando o F-score (F1-Score)\n",
        "def calcular_fscore(precisao, sensibilidade):\n",
        "    return 2 * (precisao * sensibilidade) / (precisao + sensibilidade)\n",
        "\n",
        "# Calculando as métricas com os valores fornecidos\n",
        "acuracia = calcular_acuracia(VP, FN, FP, VN)\n",
        "sensibilidade = calcular_sensibilidade(VP, FN)\n",
        "especificidade = calcular_especificidade(VN, FP)\n",
        "precisao = calcular_precisao(VP, FP)\n",
        "fscore = calcular_fscore(precisao, sensibilidade)\n",
        "\n",
        "# Exibindo os resultados\n",
        "print(f\"Acurácia: {acuracia:.3f}\")\n",
        "print(f\"Sensibilidade (Recall): {sensibilidade:.3f}\")\n",
        "print(f\"Especificidade: {especificidade:.3f}\")\n",
        "print(f\"Precisão: {precisao:.3f}\")\n",
        "print(f\"F-score: {fscore:.3f}\")\n",
        "\n",
        "# Para facilitar a visualização, também podemos gerar uma matriz de confusão utilizando o sklearn\n",
        "# Exemplo de rótulos reais e previstos para gerar a matriz de confusão\n",
        "y_true = [1] * 60 + [0] * 105  # 60 positivos (1) e 105 negativos (0)\n",
        "y_pred = [1] * 55 + [0] * 5 + [1] * 5 + [0] * 100  # 55 positivos previstos corretamente, 5 errados e assim por diante\n",
        "\n",
        "# Gerando a matriz de confusão\n",
        "conf_matrix = confusion_matrix(y_true, y_pred)\n",
        "print(\"\\nMatriz de Confusão:\")\n",
        "print(conf_matrix)\n",
        "\n",
        "# Usando as funções do scikit-learn para calcular métricas também\n",
        "print(\"\\nMétricas com scikit-learn:\")\n",
        "print(f\"Acurácia: {accuracy_score(y_true, y_pred):.3f}\")\n",
        "print(f\"Sensibilidade (Recall): {recall_score(y_true, y_pred):.3f}\")\n",
        "print(f\"Precisão: {precision_score(y_true, y_pred):.3f}\")\n",
        "print(f\"F1-Score: {f1_score(y_true, y_pred):.3f}\")\n"
      ]
    }
  ]
}